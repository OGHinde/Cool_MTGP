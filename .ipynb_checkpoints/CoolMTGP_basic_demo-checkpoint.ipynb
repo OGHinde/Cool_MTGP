{
 "cells": [
  {
   "cell_type": "markdown",
   "metadata": {},
   "source": [
    "# Conditional one-output likelihood multi-task GP\n",
    "\n",
    "### Introduction\n",
    "\n",
    "In this tutorial we introduce the conditional one-output likelihood multi-task GP (Cool-MTGP). The notebook generates a synthetic dataset using and identical process to the one used in the paper. Both the hierarchical and approximate versions of the Cool-MTGP are demonstrated.\n",
    "\n",
    "The first code cell deals with the imports needed to use our library."
   ]
  },
  {
   "cell_type": "code",
   "execution_count": 1,
   "metadata": {},
   "outputs": [],
   "source": [
    "# General imports\n",
    "import numpy as np\n",
    "import scipy as sp\n",
    "from scipy.linalg import inv\n",
    "from matplotlib import pyplot as plt\n",
    "from mpl_toolkits.axes_grid1 import make_axes_locatable\n",
    "from sklearn.metrics import mean_squared_error as MSE\n",
    "\n",
    "# Import kernels for the Cool-MTGP model.\n",
    "# We will only use linear kernels in this demo\n",
    "from lib.kernels import DotProduct\n",
    "from lib.kernels import WhiteKernel\n",
    "\n",
    "# Import approximate Cool-MTGP (~Cool-MTGP)\n",
    "from lib.A_Cool_MTGP import MultitaskGP as a_mtgp\n",
    "\n",
    "# Import hierarchical Cool-MTGP (HCool-MTGP)\n",
    "from lib.H_Cool_MTGP import MultitaskGP as h_mtgp"
   ]
  },
  {
   "cell_type": "markdown",
   "metadata": {},
   "source": [
    "### Data generation\n",
    "\n",
    "The data set is drawn from likelihood function $ p(\\bf{y} | \\bf{X}) = \\mathcal{N}(\\bf{y}|\\bf{0},\\bf{C}_{1:T,1:T}\\otimes\\bf{K} + \\bf{\\Sigma}_{1:T,1:T}\\otimes\\bf{I}) $, where $ \\bf{K} = \\bf{X}^\\top \\bf{X} $ and the intertask and noise covariance matrices follow the low rank form $ \\bf{C}_{1:T,1:T} = \\sum_{r=1}^R \\bf{c}_r  \\bf{c}_r^\\top $ (and similarly for $ \\bf{\\Sigma}_{1:T,1:T} $). "
   ]
  },
  {
   "cell_type": "code",
   "execution_count": 2,
   "metadata": {},
   "outputs": [],
   "source": [
    "# GENERATE DATA\n",
    "\n",
    "n_tr = 50          # number of training samples\n",
    "n_tst = 30         # number of test samples\n",
    "n_features = 25     # number of input dimensions\n",
    "n_tasks = 5        # number of output tasks\n",
    "rank = 5           # covariance matrix rank\n",
    "noise_scale = 0.3   # output noise scale\n",
    "\n",
    "n_samples = n_tr + n_tst\n",
    "np.random.seed(None)\n",
    "\n",
    "c = np.random.randn(n_tasks, rank)\n",
    "s = np.random.randn(n_tasks, rank)\n",
    "X = np.random.randn(n_samples, n_features)/np.sqrt(n_features)\n",
    "K_X = np.dot(X, X.T)\n",
    "C = np.dot(c, c.T)\n",
    "Sigma = np.dot(s, s.T)*(noise_scale**2)\n",
    "K_C = np.kron(C, K_X) \n",
    "K_Sigma = np.kron(Sigma, np.eye(n_samples))\n",
    "\n",
    "y_signal = np.random.multivariate_normal(np.zeros(n_tasks*n_samples), K_C)\n",
    "y_noise = np.random.multivariate_normal(np.zeros(n_tasks*n_samples), K_Sigma)\n",
    "y = y_signal + y_noise\n",
    "Y = np.reshape(y, (n_samples, n_tasks), order='F')\n",
    "\n",
    "X_tr = X[:n_tr, :]\n",
    "Y_tr = Y[:n_tr, :]\n",
    "X_tst = X[n_tr:, :]\n",
    "Y_tst = Y[n_tr:, :]"
   ]
  },
  {
   "cell_type": "markdown",
   "metadata": {},
   "source": [
    "### Kernel definition\n",
    "\n",
    "We will only use linear kernels for this example."
   ]
  },
  {
   "cell_type": "code",
   "execution_count": 3,
   "metadata": {},
   "outputs": [],
   "source": [
    "# Initialise kernels for the Cool-MTGP models\n",
    "\n",
    "kernel_X = DotProduct(sigma_0=1, sigma_0_bounds=\"fixed\")\n",
    "kernel_noise = WhiteKernel(4, (1e-10, 100))"
   ]
  },
  {
   "cell_type": "markdown",
   "metadata": {},
   "source": [
    "### Train the hierarchical Cool-MTGP\n",
    "\n",
    "We use a similar API to that of scikit learn:\n",
    "- An instance of the model is initialised. Input and noise kernels must be provided.\n",
    "- The `fit()` method fits the model to a set of training data, X and Y train.\n",
    "- The `predict()` method returns the predictive mean for a set of test data, X test.\n",
    "\n",
    "The estimated versions of $\\bf{C}$ and $\\bf{\\Sigma}$ are stored in `_PriorW` and `_SigmaTT` "
   ]
  },
  {
   "cell_type": "code",
   "execution_count": 4,
   "metadata": {},
   "outputs": [
    {
     "name": "stdout",
     "output_type": "stream",
     "text": [
      "Training model...\n",
      "Done.\n"
     ]
    }
   ],
   "source": [
    "# HCOOL-MTGP\n",
    "\n",
    "print('Training model...')\n",
    "mtGP = h_mtgp(kernel=kernel_X, kernel_noise=kernel_noise, n_restarts_optimizer=15)\n",
    "mtGP.fit(X_tr, Y_tr, alpha_method ='largeT')\n",
    "print('Done.')\n",
    "\n",
    "# Compute per-task covariances\n",
    "C_hcool = mtGP._PriorW\n",
    "Sigma_hcool = mtGP._SigmaTT\n",
    "\n",
    "mean_hcool = mtGP.predict(X_tst, conf_intervals=False, compute_C_star=True)\n",
    "error = Y_tst - mean_hcool\n",
    "error_scale = np.dot(error.T, error)"
   ]
  },
  {
   "cell_type": "code",
   "execution_count": 30,
   "metadata": {},
   "outputs": [
    {
     "data": {
      "image/png": "[encoded data removed]",
      "text/plain": [
       "<Figure size 1080x360 with 6 Axes>"
      ]
     },
     "metadata": {
      "needs_background": "light"
     },
     "output_type": "display_data"
    }
   ],
   "source": [
    "C_star = []\n",
    "C_K_test = []\n",
    "for i in range(n_tst):\n",
    "    mean_hcool = mtGP.predict(X_tst[i, :].reshape((1, -1)), conf_intervals=False, compute_C_star=True)\n",
    "    C_star.append(mtGP.C_star_)\n",
    "    C_K_test.append(mtGP.C_K_test_)\n",
    "    \n",
    "fig, [ax1, ax2, ax3] = plt.subplots(1, 3, figsize=(15, 5))\n",
    "\n",
    "C_plot = ax1.imshow(error_scale, cmap='Blues')\n",
    "ax1.set_axis_off()\n",
    "ax1.set_title('Error outer product')\n",
    "divider = make_axes_locatable(ax1)\n",
    "cax = divider.append_axes(\"right\", size=\"5%\", pad=pad)\n",
    "plt.colorbar(C_plot, cax=cax)\n",
    "\n",
    "C_plot = ax2.imshow(np.array(C_star).mean(axis=0), cmap='Blues')\n",
    "ax2.set_axis_off()\n",
    "ax2.set_title('HCool-MTGP C*')\n",
    "divider = make_axes_locatable(ax2)\n",
    "cax = divider.append_axes(\"right\", size=\"5%\", pad=pad)\n",
    "plt.colorbar(C_plot, cax=cax)\n",
    "\n",
    "C_plot = ax3.imshow(np.array(C_K_test).mean(axis=0), cmap='Blues')\n",
    "ax3.set_axis_off()\n",
    "ax3.set_title('HCool-MTGP C_K_test')\n",
    "divider = make_axes_locatable(ax3)\n",
    "cax = divider.append_axes(\"right\", size=\"5%\", pad=pad)\n",
    "plt.colorbar(C_plot, cax=cax)\n",
    "\n",
    "fig.tight_layout()"
   ]
  },
  {
   "cell_type": "markdown",
   "metadata": {},
   "source": [
    "### Train the approximate Cool-MTGP\n",
    "\n",
    "The API is identical to that of the hierarchical implementation. Training time is slightly faster."
   ]
  },
  {
   "cell_type": "code",
   "execution_count": null,
   "metadata": {},
   "outputs": [],
   "source": [
    "# ~COOL-MTGP\n",
    "\n",
    "print('Training model...')\n",
    "mtGP = a_mtgp(kernel=kernel_X, kernel_noise=kernel_noise, n_restarts_optimizer=15)\n",
    "mtGP.fit(X_tr, Y_tr)\n",
    "mean_acool = mtGP.predict(X_tst, conf_intervals=False)\n",
    "\n",
    "# Compute per-task covariances\n",
    "C_acool = mtGP._PriorW\n",
    "Sigma_acool = mtGP._SigmaTT\n",
    "\n",
    "mse = MSE(Y_tst, mean_acool)\n",
    "print(f'\\nModel mean square error = {mse:.2f}')"
   ]
  },
  {
   "cell_type": "markdown",
   "metadata": {},
   "source": [
    "### Visualization\n",
    "\n",
    "We can now visually compare the estimated $\\bf{C}$ and $\\bf{\\Sigma}$ matrices with their true values for both implementations."
   ]
  },
  {
   "cell_type": "code",
   "execution_count": null,
   "metadata": {},
   "outputs": [],
   "source": [
    "# Plot matrices\n",
    "pad=0.15\n",
    "\n",
    "fig, [[ax1, ax2, ax3], [ax4, ax5, ax6]] = plt.subplots(2, 3, figsize=(15, 10))\n",
    "\n",
    "C_plot = ax1.imshow(C, cmap='Blues')\n",
    "ax1.set_axis_off()\n",
    "ax1.set_title('True C')\n",
    "divider = make_axes_locatable(ax1)\n",
    "cax = divider.append_axes(\"right\", size=\"5%\", pad=pad)\n",
    "plt.colorbar(C_plot, cax=cax)\n",
    "\n",
    "C_plot = ax2.imshow(C_hcool, cmap='Blues')\n",
    "ax2.set_axis_off()\n",
    "ax2.set_title('HCool-MTGP C')\n",
    "divider = make_axes_locatable(ax2)\n",
    "cax = divider.append_axes(\"right\", size=\"5%\", pad=pad)\n",
    "plt.colorbar(C_plot, cax=cax)\n",
    "\n",
    "C_plot = ax3.imshow(C_acool, cmap='Blues')\n",
    "ax3.set_axis_off()\n",
    "ax3.set_title('~Cool-MTGP C')\n",
    "divider = make_axes_locatable(ax3)\n",
    "cax = divider.append_axes(\"right\", size=\"5%\", pad=pad)\n",
    "plt.colorbar(C_plot, cax=cax)\n",
    "\n",
    "Sigma_plot = ax4.imshow(Sigma, cmap='Blues')\n",
    "ax4.set_axis_off()\n",
    "ax4.set_title('True Sigma')\n",
    "divider = make_axes_locatable(ax4)\n",
    "cax = divider.append_axes(\"right\", size=\"5%\", pad=pad)\n",
    "plt.colorbar(Sigma_plot, cax=cax)\n",
    "\n",
    "Sigma_plot = ax5.imshow(Sigma_hcool, cmap='Blues')\n",
    "ax5.set_axis_off()\n",
    "ax5.set_title('HCool-MTGP Sigma')\n",
    "divider = make_axes_locatable(ax5)\n",
    "cax = divider.append_axes(\"right\", size=\"5%\", pad=pad)\n",
    "plt.colorbar(Sigma_plot, cax=cax)\n",
    "\n",
    "Sigma_plot = ax6.imshow(Sigma_acool, cmap='Blues')\n",
    "ax6.set_axis_off()\n",
    "ax6.set_title('~Cool-MTGP Sigma')\n",
    "divider = make_axes_locatable(ax6)\n",
    "cax = divider.append_axes(\"right\", size=\"5%\", pad=pad)\n",
    "plt.colorbar(Sigma_plot, cax=cax)\n",
    "\n",
    "fig.tight_layout()"
   ]
  }
 ],
 "metadata": {
  "kernelspec": {
   "display_name": "Python 3",
   "language": "python",
   "name": "python3"
  },
  "language_info": {
   "codemirror_mode": {
    "name": "ipython",
    "version": 3
   },
   "file_extension": ".py",
   "mimetype": "text/x-python",
   "name": "python",
   "nbconvert_exporter": "python",
   "pygments_lexer": "ipython3",
   "version": "3.6.8"
  }
 },
 "nbformat": 4,
 "nbformat_minor": 4
}
